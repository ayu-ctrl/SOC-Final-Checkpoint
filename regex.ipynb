{
 "cells": [
  {
   "cell_type": "code",
   "execution_count": 2,
   "id": "0df4c687-c31b-47bb-830e-390ffd901dc1",
   "metadata": {},
   "outputs": [],
   "source": [
    "import re"
   ]
  },
  {
   "cell_type": "code",
   "execution_count": 4,
   "id": "d1e839f4-e429-4ed1-8a59-6e78b719946f",
   "metadata": {},
   "outputs": [],
   "source": [
    "text= 'Hi, my name is Ayushi. I love chatbots! My email is ayushi123@gmail.com'"
   ]
  },
  {
   "cell_type": "code",
   "execution_count": 9,
   "id": "90abaca8-050d-4ded-beb3-cceccf508829",
   "metadata": {},
   "outputs": [
    {
     "name": "stderr",
     "output_type": "stream",
     "text": [
      "<>:1: SyntaxWarning: invalid escape sequence '\\d'\n",
      "<>:1: SyntaxWarning: invalid escape sequence '\\d'\n",
      "C:\\Users\\rd357\\AppData\\Local\\Temp\\ipykernel_23852\\618173412.py:1: SyntaxWarning: invalid escape sequence '\\d'\n",
      "  pattern= '\\d\\d'\n"
     ]
    },
    {
     "data": {
      "text/plain": [
       "['12']"
      ]
     },
     "execution_count": 9,
     "metadata": {},
     "output_type": "execute_result"
    }
   ],
   "source": [
    "pattern= '\\d\\d'\n",
    "matches= re.findall(pattern, text)\n",
    "matches"
   ]
  },
  {
   "cell_type": "code",
   "execution_count": 11,
   "id": "837d84a8-ab44-4afc-9309-549b418e9aa6",
   "metadata": {},
   "outputs": [
    {
     "name": "stderr",
     "output_type": "stream",
     "text": [
      "<>:1: SyntaxWarning: invalid escape sequence '\\.'\n",
      "<>:1: SyntaxWarning: invalid escape sequence '\\.'\n",
      "C:\\Users\\rd357\\AppData\\Local\\Temp\\ipykernel_23852\\3373253656.py:1: SyntaxWarning: invalid escape sequence '\\.'\n",
      "  pattern= '[a-z0-9A-Z]*@[a-z0-9A-Z]*\\.com'\n"
     ]
    },
    {
     "data": {
      "text/plain": [
       "['ayushi123@gmail.com']"
      ]
     },
     "execution_count": 11,
     "metadata": {},
     "output_type": "execute_result"
    }
   ],
   "source": [
    "pattern= '[a-z0-9A-Z]*@[a-z0-9A-Z]*\\.com'\n",
    "matches= re.findall(pattern, text)\n",
    "matches"
   ]
  },
  {
   "cell_type": "code",
   "execution_count": null,
   "id": "28e5242e-c1c9-4bcd-81f7-907486557d86",
   "metadata": {},
   "outputs": [],
   "source": []
  }
 ],
 "metadata": {
  "kernelspec": {
   "display_name": "Python 3 (ipykernel)",
   "language": "python",
   "name": "python3"
  },
  "language_info": {
   "codemirror_mode": {
    "name": "ipython",
    "version": 3
   },
   "file_extension": ".py",
   "mimetype": "text/x-python",
   "name": "python",
   "nbconvert_exporter": "python",
   "pygments_lexer": "ipython3",
   "version": "3.13.3"
  }
 },
 "nbformat": 4,
 "nbformat_minor": 5
}
